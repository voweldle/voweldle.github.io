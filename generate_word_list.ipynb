{
 "cells": [
  {
   "cell_type": "code",
   "execution_count": 49,
   "metadata": {},
   "outputs": [],
   "source": [
    "import regex as re\n",
    "import matplotlib.pyplot as plt\n",
    "import numpy as np"
   ]
  },
  {
   "cell_type": "code",
   "execution_count": 50,
   "metadata": {},
   "outputs": [
    {
     "name": "stdout",
     "output_type": "stream",
     "text": [
      "172820\n"
     ]
    }
   ],
   "source": [
    "# load the enable word list in an array\n",
    "with open('public/enable_word_list.txt') as f:\n",
    "    word_list = f.read().splitlines()\n",
    "print(len(word_list))"
   ]
  },
  {
   "cell_type": "code",
   "execution_count": 51,
   "metadata": {},
   "outputs": [
    {
     "name": "stdout",
     "output_type": "stream",
     "text": [
      "172820\n"
     ]
    }
   ],
   "source": [
    "# filter out any words that have any non A-Z or a-z characters using regex\n",
    "word_list = [word for word in word_list if re.match('^[a-zA-Z]+$', word)]\n",
    "print(len(word_list))"
   ]
  },
  {
   "cell_type": "code",
   "execution_count": 52,
   "metadata": {},
   "outputs": [
    {
     "name": "stdout",
     "output_type": "stream",
     "text": [
      "  % Total    % Received % Xferd  Average Speed   Time    Time     Time  Current\n",
      "                                 Dload  Upload   Total   Spent    Left  Speed\n",
      "100  8384  100  8384    0     0  39945      0 --:--:-- --:--:-- --:--:-- 40502\n",
      "958\n",
      "172580\n"
     ]
    }
   ],
   "source": [
    "# filter out any words that are present in the list at https://raw.githubusercontent.com/coffee-and-fun/google-profanity-words/main/data/list.txt\n",
    "# first need to download the list to /tmp/profanity_list.txt\n",
    "# Download:\n",
    "!curl https://raw.githubusercontent.com/coffee-and-fun/google-profanity-words/main/data/list.txt > /tmp/profanity_list.txt\n",
    "# Load:\n",
    "with open('/tmp/profanity_list.txt') as f:\n",
    "    profanity_list = f.read().splitlines()\n",
    "print(len(profanity_list))\n",
    "\n",
    "# filter out any words that are present in the profanity list\n",
    "word_list = [word for word in word_list if word not in profanity_list]\n",
    "print(len(word_list))"
   ]
  },
  {
   "cell_type": "code",
   "execution_count": 53,
   "metadata": {},
   "outputs": [
    {
     "name": "stdout",
     "output_type": "stream",
     "text": [
      "  % Total    % Received % Xferd  Average Speed   Time    Time     Time  Current\n",
      "                                 Dload  Upload   Total   Spent    Left  Speed\n",
      "100 29694  100 29694    0     0   122k      0 --:--:-- --:--:-- --:--:--  123k\n",
      "3169\n",
      "3123\n"
     ]
    }
   ],
   "source": [
    "# now keep only the words in the list provided in https://raw.githubusercontent.com/sapbmw/Longman-Communication-3000/master/Longman_Communication_3000.txt\n",
    "# first need to download the list to /tmp/longman_list.txt\n",
    "# Download:\n",
    "!curl https://raw.githubusercontent.com/sapbmw/Longman-Communication-3000/master/Longman_Communication_3000.txt > /tmp/longman_list.txt\n",
    "# Load:\n",
    "with open('/tmp/longman_list.txt') as f:\n",
    "    longman_list = [s.strip() for s in f.read().splitlines()]\n",
    "print(len(longman_list))\n",
    "\n",
    "# filter out any words that are not present in the longman list\n",
    "word_list = [word for word in word_list if word in longman_list]\n",
    "print(len(word_list))"
   ]
  },
  {
   "cell_type": "code",
   "execution_count": 54,
   "metadata": {},
   "outputs": [
    {
     "data": {
      "image/png": "[encoded data removed]",
      "text/plain": [
       "<Figure size 432x288 with 1 Axes>"
      ]
     },
     "metadata": {
      "needs_background": "light"
     },
     "output_type": "display_data"
    }
   ],
   "source": [
    "plt.bar(np.arange(1, 20), [len([word for word in word_list if len(word) == i]) for i in range(1, 20)])\n",
    "plt.xlabel('Word Length')\n",
    "plt.ylabel('Number of Words')\n",
    "plt.title('Word Length Distribution')\n",
    "plt.xticks(np.arange(1, 20))\n",
    "plt.grid(axis='y')\n",
    "plt.show()"
   ]
  },
  {
   "cell_type": "code",
   "execution_count": 55,
   "metadata": {},
   "outputs": [
    {
     "name": "stdout",
     "output_type": "stream",
     "text": [
      "2913\n"
     ]
    }
   ],
   "source": [
    "# remove any words that are less than 4 characters long\n",
    "word_list = [word for word in word_list if len(word) >= 4]\n",
    "print(len(word_list))"
   ]
  },
  {
   "cell_type": "code",
   "execution_count": 56,
   "metadata": {},
   "outputs": [
    {
     "name": "stdout",
     "output_type": "stream",
     "text": [
      "2742\n"
     ]
    }
   ],
   "source": [
    "# remove any words that are more than 10 characters long\n",
    "word_list = [word for word in word_list if len(word) <= 10] \n",
    "print(len(word_list))"
   ]
  },
  {
   "cell_type": "code",
   "execution_count": 57,
   "metadata": {},
   "outputs": [
    {
     "data": {
      "image/png": "[encoded data removed]",
      "text/plain": [
       "<Figure size 432x288 with 1 Axes>"
      ]
     },
     "metadata": {
      "needs_background": "light"
     },
     "output_type": "display_data"
    }
   ],
   "source": [
    "plt.bar(np.arange(1, 20), [len([word for word in word_list if len(word) == i]) for i in range(1, 20)])\n",
    "plt.xlabel('Word Length')\n",
    "plt.ylabel('Number of Words')\n",
    "plt.title('Word Length Distribution')\n",
    "plt.xticks(np.arange(1, 20))\n",
    "plt.grid(axis='y')\n",
    "plt.show()"
   ]
  },
  {
   "cell_type": "code",
   "execution_count": 58,
   "metadata": {},
   "outputs": [],
   "source": [
    "# save the list to public/game_word_list.txt\n",
    "with open('public/game_word_list.txt', 'w') as f:\n",
    "    for word in word_list:\n",
    "        f.write(word + '\\n')"
   ]
  }
 ],
 "metadata": {
  "kernelspec": {
   "display_name": "Python 3",
   "language": "python",
   "name": "python3"
  },
  "language_info": {
   "codemirror_mode": {
    "name": "ipython",
    "version": 3
   },
   "file_extension": ".py",
   "mimetype": "text/x-python",
   "name": "python",
   "nbconvert_exporter": "python",
   "pygments_lexer": "ipython3",
   "version": "3.9.12"
  },
  "orig_nbformat": 4
 },
 "nbformat": 4,
 "nbformat_minor": 2
}
